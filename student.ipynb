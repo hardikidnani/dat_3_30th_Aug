{
 "cells": [
  {
   "cell_type": "markdown",
   "metadata": {},
   "source": [
    "## Final Project Submission\n",
    "\n",
    "Please fill out:\n",
    "* Student name: \n",
    "* Student pace: self paced / part time / full time\n",
    "* Scheduled project review date/time: \n",
    "* Instructor name: \n",
    "* Blog post URL:\n"
   ]
  },
  {
   "cell_type": "code",
   "execution_count": 1,
   "metadata": {},
   "outputs": [],
   "source": [
    "import pandas as pd\n",
    "import numpy as np\n",
    "import matplotlib.pyplot as plt\n",
    "import seaborn as sns\n",
    "from sklearn.feature_extraction.text import CountVectorizer as countVectorizer\n",
    "import difflib\n",
    "\n",
    "%matplotlib inline"
   ]
  },
  {
   "cell_type": "code",
   "execution_count": 2,
   "metadata": {},
   "outputs": [],
   "source": [
    "bom_gross_df=pd.read_csv(\"zippedData/bom.movie_gross.csv.gz\")\n",
    "imdb_basics_df=pd.read_csv(\"zippedData/imdb.title.basics.csv.gz\")\n",
    "imdb_ratings_df=pd.read_csv(\"zippedData/imdb.title.ratings.csv.gz\")"
   ]
  },
  {
   "cell_type": "code",
   "execution_count": 34,
   "metadata": {},
   "outputs": [
    {
     "data": {
      "text/plain": [
       "tconst                 0\n",
       "primary_title          0\n",
       "original_title        21\n",
       "start_year             0\n",
       "runtime_minutes    31739\n",
       "genres              5408\n",
       "dtype: int64"
      ]
     },
     "execution_count": 34,
     "metadata": {},
     "output_type": "execute_result"
    }
   ],
   "source": [
    "imdb_basics_df.isnull().sum()"
   ]
  },
  {
   "cell_type": "code",
   "execution_count": 32,
   "metadata": {},
   "outputs": [
    {
     "data": {
      "text/plain": [
       "0                [Action, Crime, Drama]\n",
       "1                    [Biography, Drama]\n",
       "2                               [Drama]\n",
       "4              [Comedy, Drama, Fantasy]\n",
       "6        [Adventure, Animation, Comedy]\n",
       "                      ...              \n",
       "73849                           [Drama]\n",
       "73850                     [Documentary]\n",
       "73851                     [Documentary]\n",
       "73852                   [Drama, Family]\n",
       "73855                     [Documentary]\n",
       "Name: Genres, Length: 65720, dtype: object"
      ]
     },
     "execution_count": 32,
     "metadata": {},
     "output_type": "execute_result"
    }
   ],
   "source": [
    "imdb_merged['Genres'].map(lambda x:x.split(','))"
   ]
  },
  {
   "cell_type": "code",
   "execution_count": 3,
   "metadata": {},
   "outputs": [
    {
     "name": "stdout",
     "output_type": "stream",
     "text": [
      "tconst                 0\n",
      "primary_title          0\n",
      "original_title        21\n",
      "start_year             0\n",
      "runtime_minutes    24119\n",
      "genres              4604\n",
      "averagerating      72288\n",
      "numvotes           72288\n",
      "_merge                 0\n",
      "dtype: int64\n"
     ]
    },
    {
     "data": {
      "text/html": [
       "<div>\n",
       "<style scoped>\n",
       "    .dataframe tbody tr th:only-of-type {\n",
       "        vertical-align: middle;\n",
       "    }\n",
       "\n",
       "    .dataframe tbody tr th {\n",
       "        vertical-align: top;\n",
       "    }\n",
       "\n",
       "    .dataframe thead th {\n",
       "        text-align: right;\n",
       "    }\n",
       "</style>\n",
       "<table border=\"1\" class=\"dataframe\">\n",
       "  <thead>\n",
       "    <tr style=\"text-align: right;\">\n",
       "      <th></th>\n",
       "      <th>start_year</th>\n",
       "      <th>runtime_minutes</th>\n",
       "      <th>averagerating</th>\n",
       "      <th>numvotes</th>\n",
       "    </tr>\n",
       "  </thead>\n",
       "  <tbody>\n",
       "    <tr>\n",
       "      <th>count</th>\n",
       "      <td>72288.000000</td>\n",
       "      <td>48169.000000</td>\n",
       "      <td>0.0</td>\n",
       "      <td>0.0</td>\n",
       "    </tr>\n",
       "    <tr>\n",
       "      <th>mean</th>\n",
       "      <td>2014.974961</td>\n",
       "      <td>74.544769</td>\n",
       "      <td>NaN</td>\n",
       "      <td>NaN</td>\n",
       "    </tr>\n",
       "    <tr>\n",
       "      <th>std</th>\n",
       "      <td>2.806210</td>\n",
       "      <td>75.355311</td>\n",
       "      <td>NaN</td>\n",
       "      <td>NaN</td>\n",
       "    </tr>\n",
       "    <tr>\n",
       "      <th>min</th>\n",
       "      <td>2010.000000</td>\n",
       "      <td>1.000000</td>\n",
       "      <td>NaN</td>\n",
       "      <td>NaN</td>\n",
       "    </tr>\n",
       "    <tr>\n",
       "      <th>25%</th>\n",
       "      <td>2013.000000</td>\n",
       "      <td>54.000000</td>\n",
       "      <td>NaN</td>\n",
       "      <td>NaN</td>\n",
       "    </tr>\n",
       "    <tr>\n",
       "      <th>50%</th>\n",
       "      <td>2015.000000</td>\n",
       "      <td>73.000000</td>\n",
       "      <td>NaN</td>\n",
       "      <td>NaN</td>\n",
       "    </tr>\n",
       "    <tr>\n",
       "      <th>75%</th>\n",
       "      <td>2017.000000</td>\n",
       "      <td>90.000000</td>\n",
       "      <td>NaN</td>\n",
       "      <td>NaN</td>\n",
       "    </tr>\n",
       "    <tr>\n",
       "      <th>max</th>\n",
       "      <td>2115.000000</td>\n",
       "      <td>6017.000000</td>\n",
       "      <td>NaN</td>\n",
       "      <td>NaN</td>\n",
       "    </tr>\n",
       "  </tbody>\n",
       "</table>\n",
       "</div>"
      ],
      "text/plain": [
       "         start_year  runtime_minutes  averagerating  numvotes\n",
       "count  72288.000000     48169.000000            0.0       0.0\n",
       "mean    2014.974961        74.544769            NaN       NaN\n",
       "std        2.806210        75.355311            NaN       NaN\n",
       "min     2010.000000         1.000000            NaN       NaN\n",
       "25%     2013.000000        54.000000            NaN       NaN\n",
       "50%     2015.000000        73.000000            NaN       NaN\n",
       "75%     2017.000000        90.000000            NaN       NaN\n",
       "max     2115.000000      6017.000000            NaN       NaN"
      ]
     },
     "execution_count": 3,
     "metadata": {},
     "output_type": "execute_result"
    }
   ],
   "source": [
    "#Code which shows that there are Movie records in IMDB.titles.Basics which has no corresponding values \n",
    "#(ie.,rating and number of votes in IMDB.titles.ratings table)\n",
    "df = imdb_basics_df.merge(imdb_ratings_df, \n",
    "                          how = 'outer' ,\n",
    "                          indicator = True).loc[lambda x : x['_merge']=='left_only']\n",
    "print(df.isnull().sum())\n",
    "df.describe()"
   ]
  },
  {
   "cell_type": "code",
   "execution_count": 4,
   "metadata": {},
   "outputs": [
    {
     "name": "stdout",
     "output_type": "stream",
     "text": [
      "<class 'pandas.core.frame.DataFrame'>\n",
      "Int64Index: 73856 entries, 0 to 73855\n",
      "Data columns (total 8 columns):\n",
      " #   Column           Non-Null Count  Dtype  \n",
      "---  ------           --------------  -----  \n",
      " 0   tconst           73856 non-null  object \n",
      " 1   primary_title    73856 non-null  object \n",
      " 2   original_title   73856 non-null  object \n",
      " 3   start_year       73856 non-null  int64  \n",
      " 4   runtime_minutes  66236 non-null  float64\n",
      " 5   genres           73052 non-null  object \n",
      " 6   averagerating    73856 non-null  float64\n",
      " 7   numvotes         73856 non-null  int64  \n",
      "dtypes: float64(2), int64(2), object(4)\n",
      "memory usage: 5.1+ MB\n",
      "Total records considered for analysis 73856\n"
     ]
    }
   ],
   "source": [
    "# Code to Merge datasets\n",
    "imdb_merged = pd.merge(imdb_basics_df\n",
    "                       ,imdb_ratings_df)\n",
    "imdb_merged.info() \n",
    "print(\"Total records considered for analysis\",len(imdb_merged))"
   ]
  },
  {
   "cell_type": "code",
   "execution_count": 5,
   "metadata": {},
   "outputs": [
    {
     "data": {
      "text/plain": [
       "tconst                0\n",
       "primary_title         0\n",
       "original_title        0\n",
       "start_year            0\n",
       "runtime_minutes    7620\n",
       "genres              804\n",
       "averagerating         0\n",
       "numvotes              0\n",
       "dtype: int64"
      ]
     },
     "execution_count": 5,
     "metadata": {},
     "output_type": "execute_result"
    }
   ],
   "source": [
    "#To find null values in the merged data\n",
    "imdb_merged.isnull().sum()\n"
   ]
  },
  {
   "cell_type": "code",
   "execution_count": 6,
   "metadata": {},
   "outputs": [
    {
     "data": {
      "text/plain": [
       "tconst              0.000000\n",
       "primary_title       0.000000\n",
       "original_title      0.000000\n",
       "start_year          0.000000\n",
       "runtime_minutes    10.317374\n",
       "genres              1.088605\n",
       "averagerating       0.000000\n",
       "numvotes            0.000000\n",
       "dtype: float64"
      ]
     },
     "execution_count": 6,
     "metadata": {},
     "output_type": "execute_result"
    }
   ],
   "source": [
    "#To find the percentage of null values in the merged dataset\n",
    "percent_missing_values_imdb = ((imdb_merged.isnull().sum())/len(imdb_merged))*100\n",
    "percent_missing_values_imdb "
   ]
  },
  {
   "cell_type": "code",
   "execution_count": 7,
   "metadata": {},
   "outputs": [
    {
     "name": "stdout",
     "output_type": "stream",
     "text": [
      "<class 'pandas.core.frame.DataFrame'>\n",
      "Int64Index: 65720 entries, 0 to 73855\n",
      "Data columns (total 8 columns):\n",
      " #   Column           Non-Null Count  Dtype  \n",
      "---  ------           --------------  -----  \n",
      " 0   Tconst           65720 non-null  object \n",
      " 1   Primary_Title    65720 non-null  object \n",
      " 2   Original_Title   65720 non-null  object \n",
      " 3   Start_Year       65720 non-null  int64  \n",
      " 4   Runtime_Minutes  65720 non-null  float64\n",
      " 5   Genres           65720 non-null  object \n",
      " 6   Averagerating    65720 non-null  float64\n",
      " 7   Numvotes         65720 non-null  int64  \n",
      "dtypes: float64(2), int64(2), object(4)\n",
      "memory usage: 4.5+ MB\n"
     ]
    }
   ],
   "source": [
    "#To remove the rows with null values in runtime_minutes column and genres column-IMDB merged dataset\n",
    "imdb_merged.dropna(inplace=True)\n",
    "imdb_merged.columns =imdb_merged.columns.str.title()\n",
    "imdb_merged.info()"
   ]
  },
  {
   "cell_type": "code",
   "execution_count": 8,
   "metadata": {},
   "outputs": [],
   "source": [
    "# Code to split the genres to individual columns\n",
    "gen={i.strip() for i in np.hstack(imdb_merged['Genres'].map(lambda x:x.split(',')))}\n",
    "for c in gen:\n",
    "    imdb_merged[c] = 0\n",
    "\n",
    "for index, row in imdb_merged.iterrows():\n",
    "    for g in row['Genres'].split(','):\n",
    "        imdb_merged.at[index,g] = 1"
   ]
  },
  {
   "cell_type": "code",
   "execution_count": 9,
   "metadata": {},
   "outputs": [
    {
     "data": {
      "text/html": [
       "<div>\n",
       "<style scoped>\n",
       "    .dataframe tbody tr th:only-of-type {\n",
       "        vertical-align: middle;\n",
       "    }\n",
       "\n",
       "    .dataframe tbody tr th {\n",
       "        vertical-align: top;\n",
       "    }\n",
       "\n",
       "    .dataframe thead th {\n",
       "        text-align: right;\n",
       "    }\n",
       "</style>\n",
       "<table border=\"1\" class=\"dataframe\">\n",
       "  <thead>\n",
       "    <tr style=\"text-align: right;\">\n",
       "      <th></th>\n",
       "      <th>Tconst</th>\n",
       "      <th>Primary_Title</th>\n",
       "      <th>Original_Title</th>\n",
       "      <th>Start_Year</th>\n",
       "      <th>Runtime_Minutes</th>\n",
       "      <th>Genres</th>\n",
       "      <th>Averagerating</th>\n",
       "      <th>Numvotes</th>\n",
       "      <th>Game-Show</th>\n",
       "      <th>Horror</th>\n",
       "      <th>...</th>\n",
       "      <th>Reality-TV</th>\n",
       "      <th>Crime</th>\n",
       "      <th>Drama</th>\n",
       "      <th>War</th>\n",
       "      <th>History</th>\n",
       "      <th>Musical</th>\n",
       "      <th>Adult</th>\n",
       "      <th>Documentary</th>\n",
       "      <th>Biography</th>\n",
       "      <th>News</th>\n",
       "    </tr>\n",
       "  </thead>\n",
       "  <tbody>\n",
       "    <tr>\n",
       "      <th>0</th>\n",
       "      <td>tt0063540</td>\n",
       "      <td>Sunghursh</td>\n",
       "      <td>Sunghursh</td>\n",
       "      <td>2013</td>\n",
       "      <td>175.0</td>\n",
       "      <td>Action,Crime,Drama</td>\n",
       "      <td>7.0</td>\n",
       "      <td>77</td>\n",
       "      <td>0</td>\n",
       "      <td>0</td>\n",
       "      <td>...</td>\n",
       "      <td>0</td>\n",
       "      <td>1</td>\n",
       "      <td>1</td>\n",
       "      <td>0</td>\n",
       "      <td>0</td>\n",
       "      <td>0</td>\n",
       "      <td>0</td>\n",
       "      <td>0</td>\n",
       "      <td>0</td>\n",
       "      <td>0</td>\n",
       "    </tr>\n",
       "    <tr>\n",
       "      <th>1</th>\n",
       "      <td>tt0066787</td>\n",
       "      <td>One Day Before the Rainy Season</td>\n",
       "      <td>Ashad Ka Ek Din</td>\n",
       "      <td>2019</td>\n",
       "      <td>114.0</td>\n",
       "      <td>Biography,Drama</td>\n",
       "      <td>7.2</td>\n",
       "      <td>43</td>\n",
       "      <td>0</td>\n",
       "      <td>0</td>\n",
       "      <td>...</td>\n",
       "      <td>0</td>\n",
       "      <td>0</td>\n",
       "      <td>1</td>\n",
       "      <td>0</td>\n",
       "      <td>0</td>\n",
       "      <td>0</td>\n",
       "      <td>0</td>\n",
       "      <td>0</td>\n",
       "      <td>1</td>\n",
       "      <td>0</td>\n",
       "    </tr>\n",
       "    <tr>\n",
       "      <th>2</th>\n",
       "      <td>tt0069049</td>\n",
       "      <td>The Other Side of the Wind</td>\n",
       "      <td>The Other Side of the Wind</td>\n",
       "      <td>2018</td>\n",
       "      <td>122.0</td>\n",
       "      <td>Drama</td>\n",
       "      <td>6.9</td>\n",
       "      <td>4517</td>\n",
       "      <td>0</td>\n",
       "      <td>0</td>\n",
       "      <td>...</td>\n",
       "      <td>0</td>\n",
       "      <td>0</td>\n",
       "      <td>1</td>\n",
       "      <td>0</td>\n",
       "      <td>0</td>\n",
       "      <td>0</td>\n",
       "      <td>0</td>\n",
       "      <td>0</td>\n",
       "      <td>0</td>\n",
       "      <td>0</td>\n",
       "    </tr>\n",
       "    <tr>\n",
       "      <th>4</th>\n",
       "      <td>tt0100275</td>\n",
       "      <td>The Wandering Soap Opera</td>\n",
       "      <td>La Telenovela Errante</td>\n",
       "      <td>2017</td>\n",
       "      <td>80.0</td>\n",
       "      <td>Comedy,Drama,Fantasy</td>\n",
       "      <td>6.5</td>\n",
       "      <td>119</td>\n",
       "      <td>0</td>\n",
       "      <td>0</td>\n",
       "      <td>...</td>\n",
       "      <td>0</td>\n",
       "      <td>0</td>\n",
       "      <td>1</td>\n",
       "      <td>0</td>\n",
       "      <td>0</td>\n",
       "      <td>0</td>\n",
       "      <td>0</td>\n",
       "      <td>0</td>\n",
       "      <td>0</td>\n",
       "      <td>0</td>\n",
       "    </tr>\n",
       "    <tr>\n",
       "      <th>6</th>\n",
       "      <td>tt0137204</td>\n",
       "      <td>Joe Finds Grace</td>\n",
       "      <td>Joe Finds Grace</td>\n",
       "      <td>2017</td>\n",
       "      <td>83.0</td>\n",
       "      <td>Adventure,Animation,Comedy</td>\n",
       "      <td>8.1</td>\n",
       "      <td>263</td>\n",
       "      <td>0</td>\n",
       "      <td>0</td>\n",
       "      <td>...</td>\n",
       "      <td>0</td>\n",
       "      <td>0</td>\n",
       "      <td>0</td>\n",
       "      <td>0</td>\n",
       "      <td>0</td>\n",
       "      <td>0</td>\n",
       "      <td>0</td>\n",
       "      <td>0</td>\n",
       "      <td>0</td>\n",
       "      <td>0</td>\n",
       "    </tr>\n",
       "  </tbody>\n",
       "</table>\n",
       "<p>5 rows × 34 columns</p>\n",
       "</div>"
      ],
      "text/plain": [
       "      Tconst                    Primary_Title              Original_Title  \\\n",
       "0  tt0063540                        Sunghursh                   Sunghursh   \n",
       "1  tt0066787  One Day Before the Rainy Season             Ashad Ka Ek Din   \n",
       "2  tt0069049       The Other Side of the Wind  The Other Side of the Wind   \n",
       "4  tt0100275         The Wandering Soap Opera       La Telenovela Errante   \n",
       "6  tt0137204                  Joe Finds Grace             Joe Finds Grace   \n",
       "\n",
       "   Start_Year  Runtime_Minutes                      Genres  Averagerating  \\\n",
       "0        2013            175.0          Action,Crime,Drama            7.0   \n",
       "1        2019            114.0             Biography,Drama            7.2   \n",
       "2        2018            122.0                       Drama            6.9   \n",
       "4        2017             80.0        Comedy,Drama,Fantasy            6.5   \n",
       "6        2017             83.0  Adventure,Animation,Comedy            8.1   \n",
       "\n",
       "   Numvotes  Game-Show  Horror  ...  Reality-TV  Crime  Drama  War  History  \\\n",
       "0        77          0       0  ...           0      1      1    0        0   \n",
       "1        43          0       0  ...           0      0      1    0        0   \n",
       "2      4517          0       0  ...           0      0      1    0        0   \n",
       "4       119          0       0  ...           0      0      1    0        0   \n",
       "6       263          0       0  ...           0      0      0    0        0   \n",
       "\n",
       "   Musical  Adult  Documentary  Biography  News  \n",
       "0        0      0            0          0     0  \n",
       "1        0      0            0          1     0  \n",
       "2        0      0            0          0     0  \n",
       "4        0      0            0          0     0  \n",
       "6        0      0            0          0     0  \n",
       "\n",
       "[5 rows x 34 columns]"
      ]
     },
     "execution_count": 9,
     "metadata": {},
     "output_type": "execute_result"
    }
   ],
   "source": [
    "imdb_merged.head()"
   ]
  },
  {
   "cell_type": "code",
   "execution_count": 10,
   "metadata": {},
   "outputs": [
    {
     "data": {
      "text/plain": [
       "title              0.000000\n",
       "studio             0.147623\n",
       "domestic_gross     0.826690\n",
       "foreign_gross     39.858282\n",
       "year               0.000000\n",
       "dtype: float64"
      ]
     },
     "execution_count": 10,
     "metadata": {},
     "output_type": "execute_result"
    }
   ],
   "source": [
    "# Finding null values in BOM_movie_gross\n",
    "percent_missing_values_bom = ((bom_gross_df.isnull().sum())/\n",
    "                              len(bom_gross_df))*100\n",
    "percent_missing_values_bom"
   ]
  },
  {
   "cell_type": "code",
   "execution_count": 11,
   "metadata": {},
   "outputs": [
    {
     "name": "stdout",
     "output_type": "stream",
     "text": [
      "<class 'pandas.core.frame.DataFrame'>\n",
      "Int64Index: 2007 entries, 0 to 3353\n",
      "Data columns (total 5 columns):\n",
      " #   Column          Non-Null Count  Dtype  \n",
      "---  ------          --------------  -----  \n",
      " 0   Title           2007 non-null   object \n",
      " 1   Studio          2007 non-null   object \n",
      " 2   Domestic_Gross  2007 non-null   float64\n",
      " 3   Foreign_Gross   2007 non-null   object \n",
      " 4   Year            2007 non-null   int64  \n",
      "dtypes: float64(1), int64(1), object(3)\n",
      "memory usage: 94.1+ KB\n"
     ]
    }
   ],
   "source": [
    "#To remove the rows with null values in BOM gross dataset\n",
    "bom_gross_df = bom_gross_df.dropna()\n",
    "bom_gross_df.columns = bom_gross_df.columns.str.title()\n",
    "bom_gross_df.info()"
   ]
  },
  {
   "cell_type": "code",
   "execution_count": 12,
   "metadata": {},
   "outputs": [
    {
     "name": "stderr",
     "output_type": "stream",
     "text": [
      "/var/folders/hm/6_zngc651rb5gtdj9b3dg25r0000gn/T/ipykernel_5341/1318612404.py:2: SettingWithCopyWarning: \n",
      "A value is trying to be set on a copy of a slice from a DataFrame.\n",
      "Try using .loc[row_indexer,col_indexer] = value instead\n",
      "\n",
      "See the caveats in the documentation: https://pandas.pydata.org/pandas-docs/stable/user_guide/indexing.html#returning-a-view-versus-a-copy\n",
      "  bom_gross_df[\"Foreign_Gross\"] = bom_gross_df[\"Foreign_Gross\"].str.replace(',','')\n",
      "/var/folders/hm/6_zngc651rb5gtdj9b3dg25r0000gn/T/ipykernel_5341/1318612404.py:3: SettingWithCopyWarning: \n",
      "A value is trying to be set on a copy of a slice from a DataFrame.\n",
      "Try using .loc[row_indexer,col_indexer] = value instead\n",
      "\n",
      "See the caveats in the documentation: https://pandas.pydata.org/pandas-docs/stable/user_guide/indexing.html#returning-a-view-versus-a-copy\n",
      "  bom_gross_df[\"Foreign_Gross\"] = bom_gross_df[\"Foreign_Gross\"].astype(float, errors = 'raise')\n"
     ]
    }
   ],
   "source": [
    "# To convert data type of column \"Foreign_Gross\" to Float\n",
    "bom_gross_df[\"Foreign_Gross\"] = bom_gross_df[\"Foreign_Gross\"].str.replace(',','')\n",
    "bom_gross_df[\"Foreign_Gross\"] = bom_gross_df[\"Foreign_Gross\"].astype(float, errors = 'raise')"
   ]
  },
  {
   "cell_type": "code",
   "execution_count": 13,
   "metadata": {},
   "outputs": [
    {
     "name": "stderr",
     "output_type": "stream",
     "text": [
      "/var/folders/hm/6_zngc651rb5gtdj9b3dg25r0000gn/T/ipykernel_5341/917680204.py:2: SettingWithCopyWarning: \n",
      "A value is trying to be set on a copy of a slice from a DataFrame.\n",
      "Try using .loc[row_indexer,col_indexer] = value instead\n",
      "\n",
      "See the caveats in the documentation: https://pandas.pydata.org/pandas-docs/stable/user_guide/indexing.html#returning-a-view-versus-a-copy\n",
      "  bom_gross_df[\"Total Gross(millions)\"] = (bom_gross_df[\"Foreign_Gross\"] + bom_gross_df[\"Domestic_Gross\"])/1000000\n"
     ]
    }
   ],
   "source": [
    "# Adding a column Total gross which is Domestic Gross + Foreign Gross\n",
    "bom_gross_df[\"Total Gross(millions)\"] = (bom_gross_df[\"Foreign_Gross\"] + bom_gross_df[\"Domestic_Gross\"])/1000000"
   ]
  },
  {
   "cell_type": "code",
   "execution_count": 14,
   "metadata": {},
   "outputs": [
    {
     "name": "stdout",
     "output_type": "stream",
     "text": [
      "<class 'pandas.core.frame.DataFrame'>\n",
      "Int64Index: 2007 entries, 0 to 3353\n",
      "Data columns (total 6 columns):\n",
      " #   Column                 Non-Null Count  Dtype  \n",
      "---  ------                 --------------  -----  \n",
      " 0   Title                  2007 non-null   object \n",
      " 1   Studio                 2007 non-null   object \n",
      " 2   Domestic_Gross         2007 non-null   float64\n",
      " 3   Foreign_Gross          2007 non-null   float64\n",
      " 4   Year                   2007 non-null   int64  \n",
      " 5   Total Gross(millions)  2007 non-null   float64\n",
      "dtypes: float64(3), int64(1), object(2)\n",
      "memory usage: 109.8+ KB\n"
     ]
    }
   ],
   "source": [
    "bom_gross_df.info()\n"
   ]
  },
  {
   "cell_type": "code",
   "execution_count": 15,
   "metadata": {},
   "outputs": [
    {
     "name": "stdout",
     "output_type": "stream",
     "text": [
      "<class 'pandas.core.frame.DataFrame'>\n",
      "Int64Index: 1767 entries, 0 to 2232\n",
      "Data columns (total 40 columns):\n",
      " #   Column                 Non-Null Count  Dtype  \n",
      "---  ------                 --------------  -----  \n",
      " 0   Title                  1767 non-null   object \n",
      " 1   Studio                 1767 non-null   object \n",
      " 2   Domestic_Gross         1767 non-null   float64\n",
      " 3   Foreign_Gross          1767 non-null   float64\n",
      " 4   Year                   1767 non-null   int64  \n",
      " 5   Total Gross(millions)  1767 non-null   float64\n",
      " 6   Tconst                 1767 non-null   object \n",
      " 7   Primary_Title          1767 non-null   object \n",
      " 8   Original_Title         1767 non-null   object \n",
      " 9   Start_Year             1767 non-null   float64\n",
      " 10  Runtime_Minutes        1767 non-null   float64\n",
      " 11  Genres                 1767 non-null   object \n",
      " 12  Averagerating          1767 non-null   float64\n",
      " 13  Numvotes               1767 non-null   float64\n",
      " 14  Game-Show              1767 non-null   float64\n",
      " 15  Horror                 1767 non-null   float64\n",
      " 16  Romance                1767 non-null   float64\n",
      " 17  Action                 1767 non-null   float64\n",
      " 18  Family                 1767 non-null   float64\n",
      " 19  Mystery                1767 non-null   float64\n",
      " 20  Sport                  1767 non-null   float64\n",
      " 21  Western                1767 non-null   float64\n",
      " 22  Short                  1767 non-null   float64\n",
      " 23  Adventure              1767 non-null   float64\n",
      " 24  Sci-Fi                 1767 non-null   float64\n",
      " 25  Comedy                 1767 non-null   float64\n",
      " 26  Thriller               1767 non-null   float64\n",
      " 27  Fantasy                1767 non-null   float64\n",
      " 28  Animation              1767 non-null   float64\n",
      " 29  Music                  1767 non-null   float64\n",
      " 30  Reality-TV             1767 non-null   float64\n",
      " 31  Crime                  1767 non-null   float64\n",
      " 32  Drama                  1767 non-null   float64\n",
      " 33  War                    1767 non-null   float64\n",
      " 34  History                1767 non-null   float64\n",
      " 35  Musical                1767 non-null   float64\n",
      " 36  Adult                  1767 non-null   float64\n",
      " 37  Documentary            1767 non-null   float64\n",
      " 38  Biography              1767 non-null   float64\n",
      " 39  News                   1767 non-null   float64\n",
      "dtypes: float64(33), int64(1), object(6)\n",
      "memory usage: 566.0+ KB\n"
     ]
    }
   ],
   "source": [
    "genre_revenue = pd.merge(left=bom_gross_df,\n",
    "                         right=imdb_merged,\n",
    "                         left_on='Title', \n",
    "                         right_on='Primary_Title',\n",
    "                         how='left')\n",
    "genre_revenue=genre_revenue.dropna()\n",
    "genre_revenue.info()"
   ]
  },
  {
   "cell_type": "code",
   "execution_count": 16,
   "metadata": {},
   "outputs": [
    {
     "data": {
      "text/html": [
       "<div>\n",
       "<style scoped>\n",
       "    .dataframe tbody tr th:only-of-type {\n",
       "        vertical-align: middle;\n",
       "    }\n",
       "\n",
       "    .dataframe tbody tr th {\n",
       "        vertical-align: top;\n",
       "    }\n",
       "\n",
       "    .dataframe thead th {\n",
       "        text-align: right;\n",
       "    }\n",
       "</style>\n",
       "<table border=\"1\" class=\"dataframe\">\n",
       "  <thead>\n",
       "    <tr style=\"text-align: right;\">\n",
       "      <th></th>\n",
       "      <th>Title</th>\n",
       "      <th>Studio</th>\n",
       "      <th>Domestic_Gross</th>\n",
       "      <th>Foreign_Gross</th>\n",
       "      <th>Year</th>\n",
       "      <th>Total Gross(millions)</th>\n",
       "      <th>Tconst</th>\n",
       "      <th>Primary_Title</th>\n",
       "      <th>Original_Title</th>\n",
       "      <th>Start_Year</th>\n",
       "      <th>...</th>\n",
       "      <th>Reality-TV</th>\n",
       "      <th>Crime</th>\n",
       "      <th>Drama</th>\n",
       "      <th>War</th>\n",
       "      <th>History</th>\n",
       "      <th>Musical</th>\n",
       "      <th>Adult</th>\n",
       "      <th>Documentary</th>\n",
       "      <th>Biography</th>\n",
       "      <th>News</th>\n",
       "    </tr>\n",
       "  </thead>\n",
       "  <tbody>\n",
       "    <tr>\n",
       "      <th>0</th>\n",
       "      <td>Toy Story 3</td>\n",
       "      <td>BV</td>\n",
       "      <td>415000000.0</td>\n",
       "      <td>652000000.0</td>\n",
       "      <td>2010</td>\n",
       "      <td>1067.0</td>\n",
       "      <td>tt0435761</td>\n",
       "      <td>Toy Story 3</td>\n",
       "      <td>Toy Story 3</td>\n",
       "      <td>2010.0</td>\n",
       "      <td>...</td>\n",
       "      <td>0.0</td>\n",
       "      <td>0.0</td>\n",
       "      <td>0.0</td>\n",
       "      <td>0.0</td>\n",
       "      <td>0.0</td>\n",
       "      <td>0.0</td>\n",
       "      <td>0.0</td>\n",
       "      <td>0.0</td>\n",
       "      <td>0.0</td>\n",
       "      <td>0.0</td>\n",
       "    </tr>\n",
       "    <tr>\n",
       "      <th>3</th>\n",
       "      <td>Inception</td>\n",
       "      <td>WB</td>\n",
       "      <td>292600000.0</td>\n",
       "      <td>535700000.0</td>\n",
       "      <td>2010</td>\n",
       "      <td>828.3</td>\n",
       "      <td>tt1375666</td>\n",
       "      <td>Inception</td>\n",
       "      <td>Inception</td>\n",
       "      <td>2010.0</td>\n",
       "      <td>...</td>\n",
       "      <td>0.0</td>\n",
       "      <td>0.0</td>\n",
       "      <td>0.0</td>\n",
       "      <td>0.0</td>\n",
       "      <td>0.0</td>\n",
       "      <td>0.0</td>\n",
       "      <td>0.0</td>\n",
       "      <td>0.0</td>\n",
       "      <td>0.0</td>\n",
       "      <td>0.0</td>\n",
       "    </tr>\n",
       "    <tr>\n",
       "      <th>4</th>\n",
       "      <td>Shrek Forever After</td>\n",
       "      <td>P/DW</td>\n",
       "      <td>238700000.0</td>\n",
       "      <td>513900000.0</td>\n",
       "      <td>2010</td>\n",
       "      <td>752.6</td>\n",
       "      <td>tt0892791</td>\n",
       "      <td>Shrek Forever After</td>\n",
       "      <td>Shrek Forever After</td>\n",
       "      <td>2010.0</td>\n",
       "      <td>...</td>\n",
       "      <td>0.0</td>\n",
       "      <td>0.0</td>\n",
       "      <td>0.0</td>\n",
       "      <td>0.0</td>\n",
       "      <td>0.0</td>\n",
       "      <td>0.0</td>\n",
       "      <td>0.0</td>\n",
       "      <td>0.0</td>\n",
       "      <td>0.0</td>\n",
       "      <td>0.0</td>\n",
       "    </tr>\n",
       "    <tr>\n",
       "      <th>5</th>\n",
       "      <td>The Twilight Saga: Eclipse</td>\n",
       "      <td>Sum.</td>\n",
       "      <td>300500000.0</td>\n",
       "      <td>398000000.0</td>\n",
       "      <td>2010</td>\n",
       "      <td>698.5</td>\n",
       "      <td>tt1325004</td>\n",
       "      <td>The Twilight Saga: Eclipse</td>\n",
       "      <td>The Twilight Saga: Eclipse</td>\n",
       "      <td>2010.0</td>\n",
       "      <td>...</td>\n",
       "      <td>0.0</td>\n",
       "      <td>0.0</td>\n",
       "      <td>1.0</td>\n",
       "      <td>0.0</td>\n",
       "      <td>0.0</td>\n",
       "      <td>0.0</td>\n",
       "      <td>0.0</td>\n",
       "      <td>0.0</td>\n",
       "      <td>0.0</td>\n",
       "      <td>0.0</td>\n",
       "    </tr>\n",
       "    <tr>\n",
       "      <th>6</th>\n",
       "      <td>Iron Man 2</td>\n",
       "      <td>Par.</td>\n",
       "      <td>312400000.0</td>\n",
       "      <td>311500000.0</td>\n",
       "      <td>2010</td>\n",
       "      <td>623.9</td>\n",
       "      <td>tt1228705</td>\n",
       "      <td>Iron Man 2</td>\n",
       "      <td>Iron Man 2</td>\n",
       "      <td>2010.0</td>\n",
       "      <td>...</td>\n",
       "      <td>0.0</td>\n",
       "      <td>0.0</td>\n",
       "      <td>0.0</td>\n",
       "      <td>0.0</td>\n",
       "      <td>0.0</td>\n",
       "      <td>0.0</td>\n",
       "      <td>0.0</td>\n",
       "      <td>0.0</td>\n",
       "      <td>0.0</td>\n",
       "      <td>0.0</td>\n",
       "    </tr>\n",
       "  </tbody>\n",
       "</table>\n",
       "<p>5 rows × 40 columns</p>\n",
       "</div>"
      ],
      "text/plain": [
       "                        Title Studio  Domestic_Gross  Foreign_Gross  Year  \\\n",
       "0                 Toy Story 3     BV     415000000.0    652000000.0  2010   \n",
       "3                   Inception     WB     292600000.0    535700000.0  2010   \n",
       "4         Shrek Forever After   P/DW     238700000.0    513900000.0  2010   \n",
       "5  The Twilight Saga: Eclipse   Sum.     300500000.0    398000000.0  2010   \n",
       "6                  Iron Man 2   Par.     312400000.0    311500000.0  2010   \n",
       "\n",
       "   Total Gross(millions)     Tconst               Primary_Title  \\\n",
       "0                 1067.0  tt0435761                 Toy Story 3   \n",
       "3                  828.3  tt1375666                   Inception   \n",
       "4                  752.6  tt0892791         Shrek Forever After   \n",
       "5                  698.5  tt1325004  The Twilight Saga: Eclipse   \n",
       "6                  623.9  tt1228705                  Iron Man 2   \n",
       "\n",
       "               Original_Title  Start_Year  ...  Reality-TV Crime  Drama  War  \\\n",
       "0                 Toy Story 3      2010.0  ...         0.0   0.0    0.0  0.0   \n",
       "3                   Inception      2010.0  ...         0.0   0.0    0.0  0.0   \n",
       "4         Shrek Forever After      2010.0  ...         0.0   0.0    0.0  0.0   \n",
       "5  The Twilight Saga: Eclipse      2010.0  ...         0.0   0.0    1.0  0.0   \n",
       "6                  Iron Man 2      2010.0  ...         0.0   0.0    0.0  0.0   \n",
       "\n",
       "   History  Musical  Adult  Documentary  Biography  News  \n",
       "0      0.0      0.0    0.0          0.0        0.0   0.0  \n",
       "3      0.0      0.0    0.0          0.0        0.0   0.0  \n",
       "4      0.0      0.0    0.0          0.0        0.0   0.0  \n",
       "5      0.0      0.0    0.0          0.0        0.0   0.0  \n",
       "6      0.0      0.0    0.0          0.0        0.0   0.0  \n",
       "\n",
       "[5 rows x 40 columns]"
      ]
     },
     "execution_count": 16,
     "metadata": {},
     "output_type": "execute_result"
    }
   ],
   "source": [
    "genre_revenue.head()"
   ]
  },
  {
   "cell_type": "code",
   "execution_count": 17,
   "metadata": {},
   "outputs": [
    {
     "data": {
      "text/html": [
       "<div>\n",
       "<style scoped>\n",
       "    .dataframe tbody tr th:only-of-type {\n",
       "        vertical-align: middle;\n",
       "    }\n",
       "\n",
       "    .dataframe tbody tr th {\n",
       "        vertical-align: top;\n",
       "    }\n",
       "\n",
       "    .dataframe thead th {\n",
       "        text-align: right;\n",
       "    }\n",
       "</style>\n",
       "<table border=\"1\" class=\"dataframe\">\n",
       "  <thead>\n",
       "    <tr style=\"text-align: right;\">\n",
       "      <th></th>\n",
       "      <th>Title</th>\n",
       "      <th>Studio</th>\n",
       "      <th>Domestic_Gross</th>\n",
       "      <th>Foreign_Gross</th>\n",
       "      <th>Year</th>\n",
       "      <th>Total Gross(millions)</th>\n",
       "    </tr>\n",
       "  </thead>\n",
       "  <tbody>\n",
       "    <tr>\n",
       "      <th>0</th>\n",
       "      <td>Toy Story 3</td>\n",
       "      <td>BV</td>\n",
       "      <td>415000000.0</td>\n",
       "      <td>652000000.0</td>\n",
       "      <td>2010</td>\n",
       "      <td>1067.0</td>\n",
       "    </tr>\n",
       "    <tr>\n",
       "      <th>1</th>\n",
       "      <td>Alice in Wonderland (2010)</td>\n",
       "      <td>BV</td>\n",
       "      <td>334200000.0</td>\n",
       "      <td>691300000.0</td>\n",
       "      <td>2010</td>\n",
       "      <td>1025.5</td>\n",
       "    </tr>\n",
       "    <tr>\n",
       "      <th>2</th>\n",
       "      <td>Harry Potter and the Deathly Hallows Part 1</td>\n",
       "      <td>WB</td>\n",
       "      <td>296000000.0</td>\n",
       "      <td>664300000.0</td>\n",
       "      <td>2010</td>\n",
       "      <td>960.3</td>\n",
       "    </tr>\n",
       "    <tr>\n",
       "      <th>3</th>\n",
       "      <td>Inception</td>\n",
       "      <td>WB</td>\n",
       "      <td>292600000.0</td>\n",
       "      <td>535700000.0</td>\n",
       "      <td>2010</td>\n",
       "      <td>828.3</td>\n",
       "    </tr>\n",
       "    <tr>\n",
       "      <th>4</th>\n",
       "      <td>Shrek Forever After</td>\n",
       "      <td>P/DW</td>\n",
       "      <td>238700000.0</td>\n",
       "      <td>513900000.0</td>\n",
       "      <td>2010</td>\n",
       "      <td>752.6</td>\n",
       "    </tr>\n",
       "  </tbody>\n",
       "</table>\n",
       "</div>"
      ],
      "text/plain": [
       "                                         Title Studio  Domestic_Gross  \\\n",
       "0                                  Toy Story 3     BV     415000000.0   \n",
       "1                   Alice in Wonderland (2010)     BV     334200000.0   \n",
       "2  Harry Potter and the Deathly Hallows Part 1     WB     296000000.0   \n",
       "3                                    Inception     WB     292600000.0   \n",
       "4                          Shrek Forever After   P/DW     238700000.0   \n",
       "\n",
       "   Foreign_Gross  Year  Total Gross(millions)  \n",
       "0    652000000.0  2010                 1067.0  \n",
       "1    691300000.0  2010                 1025.5  \n",
       "2    664300000.0  2010                  960.3  \n",
       "3    535700000.0  2010                  828.3  \n",
       "4    513900000.0  2010                  752.6  "
      ]
     },
     "execution_count": 17,
     "metadata": {},
     "output_type": "execute_result"
    }
   ],
   "source": [
    "bom_gross_df.head()"
   ]
  },
  {
   "cell_type": "code",
   "execution_count": 18,
   "metadata": {},
   "outputs": [
    {
     "data": {
      "text/plain": [
       "88493177588.0"
      ]
     },
     "execution_count": 18,
     "metadata": {},
     "output_type": "execute_result"
    }
   ],
   "source": [
    "genre_revenue['Domestic_Gross'].sum()"
   ]
  },
  {
   "cell_type": "code",
   "execution_count": 19,
   "metadata": {},
   "outputs": [
    {
     "data": {
      "text/plain": [
       "94368819285.0"
      ]
     },
     "execution_count": 19,
     "metadata": {},
     "output_type": "execute_result"
    }
   ],
   "source": [
    "bom_gross_df['Domestic_Gross'].sum()"
   ]
  },
  {
   "cell_type": "code",
   "execution_count": 22,
   "metadata": {},
   "outputs": [
    {
     "data": {
      "text/plain": [
       "140645810948.9"
      ]
     },
     "execution_count": 22,
     "metadata": {},
     "output_type": "execute_result"
    }
   ],
   "source": [
    "genre_revenue['Foreign_Gross'].sum()\n",
    "# 152111302376.5 Orginal\n",
    "# 140645810948.9 Cleaned Value"
   ]
  },
  {
   "cell_type": "code",
   "execution_count": 23,
   "metadata": {},
   "outputs": [
    {
     "data": {
      "text/plain": [
       "152111302376.5"
      ]
     },
     "execution_count": 23,
     "metadata": {},
     "output_type": "execute_result"
    }
   ],
   "source": [
    "bom_gross_df['Foreign_Gross'].sum()"
   ]
  },
  {
   "cell_type": "code",
   "execution_count": 24,
   "metadata": {},
   "outputs": [
    {
     "data": {
      "text/plain": [
       "229138.98853690003"
      ]
     },
     "execution_count": 24,
     "metadata": {},
     "output_type": "execute_result"
    }
   ],
   "source": [
    "genre_revenue['Total Gross(millions)'].sum()\n",
    "# 246480.12166149996 Orginial Value\n",
    "# 229138.98853690003 Cleaned Value"
   ]
  },
  {
   "cell_type": "code",
   "execution_count": 25,
   "metadata": {},
   "outputs": [
    {
     "data": {
      "text/plain": [
       "246480.12166149996"
      ]
     },
     "execution_count": 25,
     "metadata": {},
     "output_type": "execute_result"
    }
   ],
   "source": [
    "bom_gross_df['Total Gross(millions)'].sum()"
   ]
  },
  {
   "cell_type": "code",
   "execution_count": 26,
   "metadata": {},
   "outputs": [],
   "source": [
    "# To find Top Rated genres\n",
    "x_values = gen\n",
    "y_values = {}\n",
    "for x in x_values:\n",
    "   y_values[x] = imdb_merged[imdb_merged[x] == 1]['Averagerating'].mean()"
   ]
  },
  {
   "cell_type": "code",
   "execution_count": 28,
   "metadata": {},
   "outputs": [
    {
     "data": {
      "image/png": "[encoded data removed]",
      "text/plain": [
       "<Figure size 432x288 with 1 Axes>"
      ]
     },
     "metadata": {
      "needs_background": "light"
     },
     "output_type": "display_data"
    }
   ],
   "source": [
    "# To plot genres based on average rating to find the top rated genres\n",
    "\n",
    "genres_names = list(y_values.keys())\n",
    "genres_rating = list(y_values.values())\n",
    "sns.barplot(x = genres_rating,\n",
    "            y = genres_names)\n",
    "plt.xlabel(\"Average Ratings\")\n",
    "plt.ylabel(\"Genres\")\n",
    "plt.title(\"Average rating of genres\")\n",
    "plt.show()"
   ]
  },
  {
   "cell_type": "code",
   "execution_count": 29,
   "metadata": {},
   "outputs": [
    {
     "data": {
      "image/png": "[encoded data removed]",
      "text/plain": [
       "<Figure size 432x288 with 1 Axes>"
      ]
     },
     "metadata": {
      "needs_background": "light"
     },
     "output_type": "display_data"
    }
   ],
   "source": [
    "# To plot genres based on number of votes.\n",
    "x_values = gen\n",
    "Numvotes_values = {}\n",
    "for x in x_values:\n",
    "   Numvotes_values[x] = imdb_merged[imdb_merged[x] == 1]['Numvotes'].mean()\n",
    "\n",
    "genres_names = list(Numvotes_values.keys())\n",
    "genres_numvotes = list(Numvotes_values.values())\n",
    "sns.barplot(x = genres_numvotes,\n",
    "            y = genres_names)\n",
    "plt.xlabel(\"Number of Votes\")\n",
    "plt.ylabel(\"Genres\")\n",
    "plt.title(\"Number of votes per genres\")\n",
    "plt.show()"
   ]
  },
  {
   "cell_type": "code",
   "execution_count": 30,
   "metadata": {},
   "outputs": [
    {
     "data": {
      "image/png": "[encoded data removed]",
      "text/plain": [
       "<Figure size 432x288 with 1 Axes>"
      ]
     },
     "metadata": {
      "needs_background": "light"
     },
     "output_type": "display_data"
    }
   ],
   "source": [
    "x_values = gen\n",
    "genre_Revenue_values = {}\n",
    "for x in x_values:\n",
    "   genre_Revenue_values[x] = genre_revenue[genre_revenue[x] == 1]['Total Gross(millions)'].mean()\n",
    "\n",
    "genres_names = list(genre_Revenue_values.keys())\n",
    "genres_Revenue = list(genre_Revenue_values.values())\n",
    "sns.barplot(x = genres_Revenue,\n",
    "            y = genres_names)\n",
    "plt.xlabel(\"Revenue(Millions)\")\n",
    "plt.ylabel(\"Genres\")\n",
    "plt.title(\"Genres based on Revenue\")\n",
    "plt.show()"
   ]
  },
  {
   "cell_type": "code",
   "execution_count": null,
   "metadata": {},
   "outputs": [],
   "source": []
  }
 ],
 "metadata": {
  "kernelspec": {
   "display_name": "Python 3 (ipykernel)",
   "language": "python",
   "name": "python3"
  },
  "language_info": {
   "codemirror_mode": {
    "name": "ipython",
    "version": 3
   },
   "file_extension": ".py",
   "mimetype": "text/x-python",
   "name": "python",
   "nbconvert_exporter": "python",
   "pygments_lexer": "ipython3",
   "version": "3.10.0"
  }
 },
 "nbformat": 4,
 "nbformat_minor": 2
}
